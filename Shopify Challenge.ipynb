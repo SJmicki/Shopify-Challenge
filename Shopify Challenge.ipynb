{
 "cells": [
  {
   "cell_type": "markdown",
   "id": "4b4b6572-6752-4826-9a14-8d65e8d0a9d0",
   "metadata": {},
   "source": [
    "# Application for Data Science Intern - Summer 2022 (Remote, US & Canada)\n",
    "\n",
    "**Applicant: Guanxiong Shao**"
   ]
  },
  {
   "cell_type": "markdown",
   "id": "8fea3698-0984-4aef-831a-f97aa392bba6",
   "metadata": {},
   "source": [
    "## Prompt ##\n",
    "    On Shopify, we have exactly 100 sneaker shops, and each of these shops sells only one model of shoe. We want to do some analysis of the average order value (AOV). When we look at orders data over a 30 day window, we naively calculate an AOV of $3145.13. Given that we know these shops are selling sneakers, a relatively affordable item, something seems wrong with our analysis. \n",
    "\n",
    "## Question & Responses ##\n",
    "\n",
    "*a.\tThink about what could be going wrong with our calculation. Think about a better way to evaluate this data.*\n",
    "\n",
    "    There are 17 very large orders come from shop 42 with user 607. And all of these orders are of the same order amount and total items. This may have different implications including the user 607 has a special contract with shop 42, user 607 is artificially bumping shop 42's sales, or else. \n",
    "\n",
    "    There are also samples with very large unit price (`order_amount / total_items`)For the samples with very large unit price, they all come from shop 78 but with 46 different users. Thus, it's less likely that 46 people are colluding with the store to artifically bump up the price of the item. Nonetheless, it is still highly unlikely that multiple orders of this magnitude are traded for sneakers. Potential reasons include an erroreous store tag, issue with currency, or else. \n",
    "\n",
    "    Since we are now aware of the outlier issue, a better metric to report the average order value should remove the outliers' effect on average or instead use median. \n",
    "\n",
    "\n",
    "*b.\tWhat metric would you report for this dataset?*\n",
    "\n",
    "    Thus I propose the below metrics: 1) average order size using only orders within two standard deviation of the 97.5th percentile of the sample population and 2) box plot.\n",
    "\n",
    "(Please see below)\n",
    "\n",
    "*c.\tWhat is its value?*\n",
    "\n",
    "    The modified average order size without taking outliers into account is: 293.81\n"
   ]
  },
  {
   "cell_type": "markdown",
   "id": "29ee3a81-7d8a-4698-a322-81baaae08b33",
   "metadata": {},
   "source": [
    "Change directory path"
   ]
  },
  {
   "cell_type": "code",
   "execution_count": 1,
   "id": "3ca4fa5d-fd7b-4508-a0c7-d7b494e094a2",
   "metadata": {},
   "outputs": [
    {
     "name": "stdout",
     "output_type": "stream",
     "text": [
      "C:\\Users\\sgxjs\\Downloads\n"
     ]
    }
   ],
   "source": [
    "import os\n",
    "\n",
    "os.chdir(\"C:/Users/sgxjs/Downloads\")\n",
    "cwd = os.getcwd()\n",
    "print(cwd)"
   ]
  },
  {
   "cell_type": "markdown",
   "id": "b58cfb6f-b871-4e82-bd03-eda164cf525a",
   "metadata": {},
   "source": [
    "Import data and show basic summary statistics"
   ]
  },
  {
   "cell_type": "code",
   "execution_count": 2,
   "id": "8f4a7ffe-fe95-4fb5-bab6-eaff13af5dd7",
   "metadata": {},
   "outputs": [
    {
     "data": {
      "text/html": [
       "<div>\n",
       "<style scoped>\n",
       "    .dataframe tbody tr th:only-of-type {\n",
       "        vertical-align: middle;\n",
       "    }\n",
       "\n",
       "    .dataframe tbody tr th {\n",
       "        vertical-align: top;\n",
       "    }\n",
       "\n",
       "    .dataframe thead th {\n",
       "        text-align: right;\n",
       "    }\n",
       "</style>\n",
       "<table border=\"1\" class=\"dataframe\">\n",
       "  <thead>\n",
       "    <tr style=\"text-align: right;\">\n",
       "      <th></th>\n",
       "      <th>order_id</th>\n",
       "      <th>shop_id</th>\n",
       "      <th>user_id</th>\n",
       "      <th>order_amount</th>\n",
       "      <th>total_items</th>\n",
       "    </tr>\n",
       "  </thead>\n",
       "  <tbody>\n",
       "    <tr>\n",
       "      <th>count</th>\n",
       "      <td>5000.000000</td>\n",
       "      <td>5000.000000</td>\n",
       "      <td>5000.000000</td>\n",
       "      <td>5000.000000</td>\n",
       "      <td>5000.00000</td>\n",
       "    </tr>\n",
       "    <tr>\n",
       "      <th>mean</th>\n",
       "      <td>2500.500000</td>\n",
       "      <td>50.078800</td>\n",
       "      <td>849.092400</td>\n",
       "      <td>3145.128000</td>\n",
       "      <td>8.78720</td>\n",
       "    </tr>\n",
       "    <tr>\n",
       "      <th>std</th>\n",
       "      <td>1443.520003</td>\n",
       "      <td>29.006118</td>\n",
       "      <td>87.798982</td>\n",
       "      <td>41282.539349</td>\n",
       "      <td>116.32032</td>\n",
       "    </tr>\n",
       "    <tr>\n",
       "      <th>min</th>\n",
       "      <td>1.000000</td>\n",
       "      <td>1.000000</td>\n",
       "      <td>607.000000</td>\n",
       "      <td>90.000000</td>\n",
       "      <td>1.00000</td>\n",
       "    </tr>\n",
       "    <tr>\n",
       "      <th>25%</th>\n",
       "      <td>1250.750000</td>\n",
       "      <td>24.000000</td>\n",
       "      <td>775.000000</td>\n",
       "      <td>163.000000</td>\n",
       "      <td>1.00000</td>\n",
       "    </tr>\n",
       "    <tr>\n",
       "      <th>50%</th>\n",
       "      <td>2500.500000</td>\n",
       "      <td>50.000000</td>\n",
       "      <td>849.000000</td>\n",
       "      <td>284.000000</td>\n",
       "      <td>2.00000</td>\n",
       "    </tr>\n",
       "    <tr>\n",
       "      <th>75%</th>\n",
       "      <td>3750.250000</td>\n",
       "      <td>75.000000</td>\n",
       "      <td>925.000000</td>\n",
       "      <td>390.000000</td>\n",
       "      <td>3.00000</td>\n",
       "    </tr>\n",
       "    <tr>\n",
       "      <th>max</th>\n",
       "      <td>5000.000000</td>\n",
       "      <td>100.000000</td>\n",
       "      <td>999.000000</td>\n",
       "      <td>704000.000000</td>\n",
       "      <td>2000.00000</td>\n",
       "    </tr>\n",
       "  </tbody>\n",
       "</table>\n",
       "</div>"
      ],
      "text/plain": [
       "          order_id      shop_id      user_id   order_amount  total_items\n",
       "count  5000.000000  5000.000000  5000.000000    5000.000000   5000.00000\n",
       "mean   2500.500000    50.078800   849.092400    3145.128000      8.78720\n",
       "std    1443.520003    29.006118    87.798982   41282.539349    116.32032\n",
       "min       1.000000     1.000000   607.000000      90.000000      1.00000\n",
       "25%    1250.750000    24.000000   775.000000     163.000000      1.00000\n",
       "50%    2500.500000    50.000000   849.000000     284.000000      2.00000\n",
       "75%    3750.250000    75.000000   925.000000     390.000000      3.00000\n",
       "max    5000.000000   100.000000   999.000000  704000.000000   2000.00000"
      ]
     },
     "metadata": {},
     "output_type": "display_data"
    },
    {
     "name": "stdout",
     "output_type": "stream",
     "text": [
      "<class 'pandas.core.frame.DataFrame'>\n",
      "RangeIndex: 5000 entries, 0 to 4999\n",
      "Data columns (total 7 columns):\n",
      " #   Column          Non-Null Count  Dtype \n",
      "---  ------          --------------  ----- \n",
      " 0   order_id        5000 non-null   int64 \n",
      " 1   shop_id         5000 non-null   int64 \n",
      " 2   user_id         5000 non-null   int64 \n",
      " 3   order_amount    5000 non-null   int64 \n",
      " 4   total_items     5000 non-null   int64 \n",
      " 5   payment_method  5000 non-null   object\n",
      " 6   created_at      5000 non-null   object\n",
      "dtypes: int64(5), object(2)\n",
      "memory usage: 273.6+ KB\n"
     ]
    },
    {
     "data": {
      "text/plain": [
       "None"
      ]
     },
     "metadata": {},
     "output_type": "display_data"
    },
    {
     "data": {
      "text/html": [
       "<div>\n",
       "<style scoped>\n",
       "    .dataframe tbody tr th:only-of-type {\n",
       "        vertical-align: middle;\n",
       "    }\n",
       "\n",
       "    .dataframe tbody tr th {\n",
       "        vertical-align: top;\n",
       "    }\n",
       "\n",
       "    .dataframe thead th {\n",
       "        text-align: right;\n",
       "    }\n",
       "</style>\n",
       "<table border=\"1\" class=\"dataframe\">\n",
       "  <thead>\n",
       "    <tr style=\"text-align: right;\">\n",
       "      <th></th>\n",
       "      <th>order_id</th>\n",
       "      <th>shop_id</th>\n",
       "      <th>user_id</th>\n",
       "      <th>order_amount</th>\n",
       "      <th>total_items</th>\n",
       "      <th>payment_method</th>\n",
       "      <th>created_at</th>\n",
       "    </tr>\n",
       "  </thead>\n",
       "  <tbody>\n",
       "    <tr>\n",
       "      <th>0</th>\n",
       "      <td>1</td>\n",
       "      <td>53</td>\n",
       "      <td>746</td>\n",
       "      <td>224</td>\n",
       "      <td>2</td>\n",
       "      <td>cash</td>\n",
       "      <td>2017-03-13 12:36:56</td>\n",
       "    </tr>\n",
       "    <tr>\n",
       "      <th>1</th>\n",
       "      <td>2</td>\n",
       "      <td>92</td>\n",
       "      <td>925</td>\n",
       "      <td>90</td>\n",
       "      <td>1</td>\n",
       "      <td>cash</td>\n",
       "      <td>2017-03-03 17:38:52</td>\n",
       "    </tr>\n",
       "    <tr>\n",
       "      <th>2</th>\n",
       "      <td>3</td>\n",
       "      <td>44</td>\n",
       "      <td>861</td>\n",
       "      <td>144</td>\n",
       "      <td>1</td>\n",
       "      <td>cash</td>\n",
       "      <td>2017-03-14 4:23:56</td>\n",
       "    </tr>\n",
       "    <tr>\n",
       "      <th>3</th>\n",
       "      <td>4</td>\n",
       "      <td>18</td>\n",
       "      <td>935</td>\n",
       "      <td>156</td>\n",
       "      <td>1</td>\n",
       "      <td>credit_card</td>\n",
       "      <td>2017-03-26 12:43:37</td>\n",
       "    </tr>\n",
       "    <tr>\n",
       "      <th>4</th>\n",
       "      <td>5</td>\n",
       "      <td>18</td>\n",
       "      <td>883</td>\n",
       "      <td>156</td>\n",
       "      <td>1</td>\n",
       "      <td>credit_card</td>\n",
       "      <td>2017-03-01 4:35:11</td>\n",
       "    </tr>\n",
       "  </tbody>\n",
       "</table>\n",
       "</div>"
      ],
      "text/plain": [
       "   order_id  shop_id  user_id  order_amount  total_items payment_method  \\\n",
       "0         1       53      746           224            2           cash   \n",
       "1         2       92      925            90            1           cash   \n",
       "2         3       44      861           144            1           cash   \n",
       "3         4       18      935           156            1    credit_card   \n",
       "4         5       18      883           156            1    credit_card   \n",
       "\n",
       "            created_at  \n",
       "0  2017-03-13 12:36:56  \n",
       "1  2017-03-03 17:38:52  \n",
       "2   2017-03-14 4:23:56  \n",
       "3  2017-03-26 12:43:37  \n",
       "4   2017-03-01 4:35:11  "
      ]
     },
     "execution_count": 2,
     "metadata": {},
     "output_type": "execute_result"
    }
   ],
   "source": [
    "import pandas as pd\n",
    "import numpy as np\n",
    "import matplotlib.pyplot as plt\n",
    "\n",
    "df = pd.read_csv(\"./Shopify_Dataset.csv\")\n",
    "display(df.describe())\n",
    "display(df.info())\n",
    "df.head()\n"
   ]
  },
  {
   "cell_type": "markdown",
   "id": "5aeae0be-5fa5-4e9c-a188-481859181b40",
   "metadata": {},
   "source": [
    "Check for missing values"
   ]
  },
  {
   "cell_type": "code",
   "execution_count": 3,
   "id": "373df48b-45a5-4d5f-9b53-cbeae9d65c64",
   "metadata": {},
   "outputs": [
    {
     "name": "stdout",
     "output_type": "stream",
     "text": [
      "Column order_id has 0 null values\n",
      "Column shop_id has 0 null values\n",
      "Column user_id has 0 null values\n",
      "Column order_amount has 0 null values\n",
      "Column total_items has 0 null values\n",
      "Column payment_method has 0 null values\n",
      "Column created_at has 0 null values\n"
     ]
    }
   ],
   "source": [
    "for i in range(df.shape[1]):\n",
    "    print(f'Column {df.columns[i]} has {pd.isnull(df.iloc[:,i]).sum()} null values')"
   ]
  },
  {
   "cell_type": "markdown",
   "id": "b26a2f42-7987-422e-8029-8b6fb78ccc90",
   "metadata": {},
   "source": [
    "Based on the summary statistics, some orders seem to have very large order_amount and total_items."
   ]
  },
  {
   "cell_type": "markdown",
   "id": "1308dc39-ae9c-4434-91b1-a29bd620c460",
   "metadata": {},
   "source": [
    "Visualize order_amount vs total_items and look for outliers"
   ]
  },
  {
   "cell_type": "code",
   "execution_count": 4,
   "id": "28ea995f-594a-4051-ac0f-0a0cbab5077f",
   "metadata": {},
   "outputs": [
    {
     "data": {
      "text/plain": [
       "[<matplotlib.lines.Line2D at 0x1f8fa1f2d00>]"
      ]
     },
     "execution_count": 4,
     "metadata": {},
     "output_type": "execute_result"
    },
    {
     "data": {
      "image/png": "[encoded data removed]",
      "text/plain": [
       "<Figure size 432x288 with 1 Axes>"
      ]
     },
     "metadata": {
      "needs_background": "light"
     },
     "output_type": "display_data"
    }
   ],
   "source": [
    "plt.plot(df.total_items, df.order_amount, 'bo', )"
   ]
  },
  {
   "cell_type": "code",
   "execution_count": 5,
   "id": "dea81565-72d6-4586-9cbc-2ac13f1dd891",
   "metadata": {},
   "outputs": [
    {
     "data": {
      "text/plain": [
       "Text(0.5, 1.0, 'Unit Price without Outliers')"
      ]
     },
     "execution_count": 5,
     "metadata": {},
     "output_type": "execute_result"
    },
    {
     "data": {
      "image/png": "[encoded data removed]",
      "text/plain": [
       "<Figure size 1440x720 with 2 Axes>"
      ]
     },
     "metadata": {
      "needs_background": "light"
     },
     "output_type": "display_data"
    }
   ],
   "source": [
    "df2 = pd.concat([df, pd.DataFrame(df.order_amount / df.total_items, columns=[\"avg\"])], axis=1)\n",
    "\n",
    "fig, (ax1, ax2) = plt.subplots(2, figsize=(20,10))\n",
    "\n",
    "ax1.hist(df2.avg)\n",
    "ax1.set_title(\"Unit Price with Outliers\")\n",
    "ax2.hist(df2.loc[df2.avg < 10000].avg, histtype=\"step\", bins=30)\n",
    "ax2.set_title(\"Unit Price without Outliers\")"
   ]
  },
  {
   "cell_type": "markdown",
   "id": "9f21473d-b93d-4d35-9757-073ef3504e28",
   "metadata": {},
   "source": [
    "Unexpected pattern: \n",
    "\n",
    "Most samples are aggreated around the left while one or several samples are all located at the upper right. The upper right samples could potentially be outliers that don't represent the overall sneaker shop community, thus causing the unusually large average order size.\n",
    "\n",
    "Item prices are mostly aggregated on the left (below 400) while several samples have very large unit price. These items with over 10,000 unit price likely don't represent sneakers. So it's a good idea to exclude them from average order size calculation."
   ]
  },
  {
   "cell_type": "markdown",
   "id": "b7fe5913-a7cb-41dc-b063-85c9913a0ee7",
   "metadata": {},
   "source": [
    "Filter for the large orders for further analysis"
   ]
  },
  {
   "cell_type": "code",
   "execution_count": 6,
   "id": "d1b31aeb-e91f-4209-9e85-b3a4c73a202f",
   "metadata": {},
   "outputs": [
    {
     "data": {
      "text/html": [
       "<div>\n",
       "<style scoped>\n",
       "    .dataframe tbody tr th:only-of-type {\n",
       "        vertical-align: middle;\n",
       "    }\n",
       "\n",
       "    .dataframe tbody tr th {\n",
       "        vertical-align: top;\n",
       "    }\n",
       "\n",
       "    .dataframe thead th {\n",
       "        text-align: right;\n",
       "    }\n",
       "</style>\n",
       "<table border=\"1\" class=\"dataframe\">\n",
       "  <thead>\n",
       "    <tr style=\"text-align: right;\">\n",
       "      <th></th>\n",
       "      <th>order_id</th>\n",
       "      <th>shop_id</th>\n",
       "      <th>user_id</th>\n",
       "      <th>order_amount</th>\n",
       "      <th>total_items</th>\n",
       "    </tr>\n",
       "  </thead>\n",
       "  <tbody>\n",
       "    <tr>\n",
       "      <th>count</th>\n",
       "      <td>17.000000</td>\n",
       "      <td>17.0</td>\n",
       "      <td>17.0</td>\n",
       "      <td>17.0</td>\n",
       "      <td>17.0</td>\n",
       "    </tr>\n",
       "    <tr>\n",
       "      <th>mean</th>\n",
       "      <td>2336.235294</td>\n",
       "      <td>42.0</td>\n",
       "      <td>607.0</td>\n",
       "      <td>704000.0</td>\n",
       "      <td>2000.0</td>\n",
       "    </tr>\n",
       "    <tr>\n",
       "      <th>std</th>\n",
       "      <td>1603.584872</td>\n",
       "      <td>0.0</td>\n",
       "      <td>0.0</td>\n",
       "      <td>0.0</td>\n",
       "      <td>0.0</td>\n",
       "    </tr>\n",
       "    <tr>\n",
       "      <th>min</th>\n",
       "      <td>16.000000</td>\n",
       "      <td>42.0</td>\n",
       "      <td>607.0</td>\n",
       "      <td>704000.0</td>\n",
       "      <td>2000.0</td>\n",
       "    </tr>\n",
       "    <tr>\n",
       "      <th>25%</th>\n",
       "      <td>1363.000000</td>\n",
       "      <td>42.0</td>\n",
       "      <td>607.0</td>\n",
       "      <td>704000.0</td>\n",
       "      <td>2000.0</td>\n",
       "    </tr>\n",
       "    <tr>\n",
       "      <th>50%</th>\n",
       "      <td>2154.000000</td>\n",
       "      <td>42.0</td>\n",
       "      <td>607.0</td>\n",
       "      <td>704000.0</td>\n",
       "      <td>2000.0</td>\n",
       "    </tr>\n",
       "    <tr>\n",
       "      <th>75%</th>\n",
       "      <td>3333.000000</td>\n",
       "      <td>42.0</td>\n",
       "      <td>607.0</td>\n",
       "      <td>704000.0</td>\n",
       "      <td>2000.0</td>\n",
       "    </tr>\n",
       "    <tr>\n",
       "      <th>max</th>\n",
       "      <td>4883.000000</td>\n",
       "      <td>42.0</td>\n",
       "      <td>607.0</td>\n",
       "      <td>704000.0</td>\n",
       "      <td>2000.0</td>\n",
       "    </tr>\n",
       "  </tbody>\n",
       "</table>\n",
       "</div>"
      ],
      "text/plain": [
       "          order_id  shop_id  user_id  order_amount  total_items\n",
       "count    17.000000     17.0     17.0          17.0         17.0\n",
       "mean   2336.235294     42.0    607.0      704000.0       2000.0\n",
       "std    1603.584872      0.0      0.0           0.0          0.0\n",
       "min      16.000000     42.0    607.0      704000.0       2000.0\n",
       "25%    1363.000000     42.0    607.0      704000.0       2000.0\n",
       "50%    2154.000000     42.0    607.0      704000.0       2000.0\n",
       "75%    3333.000000     42.0    607.0      704000.0       2000.0\n",
       "max    4883.000000     42.0    607.0      704000.0       2000.0"
      ]
     },
     "metadata": {},
     "output_type": "display_data"
    },
    {
     "data": {
      "text/plain": [
       "shop_id  user_id  order_amount  total_items  payment_method\n",
       "42       607      704000        2000         credit_card       17\n",
       "dtype: int64"
      ]
     },
     "execution_count": 6,
     "metadata": {},
     "output_type": "execute_result"
    }
   ],
   "source": [
    "large_orders = df.loc[(df.total_items >= 2000)]\n",
    "display(large_orders.describe())\n",
    "large_orders.drop([\"order_id\", \"created_at\"], axis=1).value_counts()"
   ]
  },
  {
   "cell_type": "code",
   "execution_count": 7,
   "id": "fb4f01c4-2a74-4d61-9fae-c269b924863a",
   "metadata": {},
   "outputs": [
    {
     "data": {
      "text/html": [
       "<div>\n",
       "<style scoped>\n",
       "    .dataframe tbody tr th:only-of-type {\n",
       "        vertical-align: middle;\n",
       "    }\n",
       "\n",
       "    .dataframe tbody tr th {\n",
       "        vertical-align: top;\n",
       "    }\n",
       "\n",
       "    .dataframe thead th {\n",
       "        text-align: right;\n",
       "    }\n",
       "</style>\n",
       "<table border=\"1\" class=\"dataframe\">\n",
       "  <thead>\n",
       "    <tr style=\"text-align: right;\">\n",
       "      <th></th>\n",
       "      <th>order_id</th>\n",
       "      <th>shop_id</th>\n",
       "      <th>user_id</th>\n",
       "      <th>order_amount</th>\n",
       "      <th>total_items</th>\n",
       "      <th>avg</th>\n",
       "    </tr>\n",
       "  </thead>\n",
       "  <tbody>\n",
       "    <tr>\n",
       "      <th>count</th>\n",
       "      <td>46.000000</td>\n",
       "      <td>46.0</td>\n",
       "      <td>46.000000</td>\n",
       "      <td>46.000000</td>\n",
       "      <td>46.000000</td>\n",
       "      <td>46.0</td>\n",
       "    </tr>\n",
       "    <tr>\n",
       "      <th>mean</th>\n",
       "      <td>2663.021739</td>\n",
       "      <td>78.0</td>\n",
       "      <td>867.739130</td>\n",
       "      <td>49213.043478</td>\n",
       "      <td>1.913043</td>\n",
       "      <td>25725.0</td>\n",
       "    </tr>\n",
       "    <tr>\n",
       "      <th>std</th>\n",
       "      <td>1338.520020</td>\n",
       "      <td>0.0</td>\n",
       "      <td>81.314871</td>\n",
       "      <td>26472.227449</td>\n",
       "      <td>1.029047</td>\n",
       "      <td>0.0</td>\n",
       "    </tr>\n",
       "    <tr>\n",
       "      <th>min</th>\n",
       "      <td>161.000000</td>\n",
       "      <td>78.0</td>\n",
       "      <td>707.000000</td>\n",
       "      <td>25725.000000</td>\n",
       "      <td>1.000000</td>\n",
       "      <td>25725.0</td>\n",
       "    </tr>\n",
       "    <tr>\n",
       "      <th>25%</th>\n",
       "      <td>1428.250000</td>\n",
       "      <td>78.0</td>\n",
       "      <td>812.500000</td>\n",
       "      <td>25725.000000</td>\n",
       "      <td>1.000000</td>\n",
       "      <td>25725.0</td>\n",
       "    </tr>\n",
       "    <tr>\n",
       "      <th>50%</th>\n",
       "      <td>2796.500000</td>\n",
       "      <td>78.0</td>\n",
       "      <td>866.500000</td>\n",
       "      <td>51450.000000</td>\n",
       "      <td>2.000000</td>\n",
       "      <td>25725.0</td>\n",
       "    </tr>\n",
       "    <tr>\n",
       "      <th>75%</th>\n",
       "      <td>3720.250000</td>\n",
       "      <td>78.0</td>\n",
       "      <td>935.750000</td>\n",
       "      <td>51450.000000</td>\n",
       "      <td>2.000000</td>\n",
       "      <td>25725.0</td>\n",
       "    </tr>\n",
       "    <tr>\n",
       "      <th>max</th>\n",
       "      <td>4919.000000</td>\n",
       "      <td>78.0</td>\n",
       "      <td>997.000000</td>\n",
       "      <td>154350.000000</td>\n",
       "      <td>6.000000</td>\n",
       "      <td>25725.0</td>\n",
       "    </tr>\n",
       "  </tbody>\n",
       "</table>\n",
       "</div>"
      ],
      "text/plain": [
       "          order_id  shop_id     user_id   order_amount  total_items      avg\n",
       "count    46.000000     46.0   46.000000      46.000000    46.000000     46.0\n",
       "mean   2663.021739     78.0  867.739130   49213.043478     1.913043  25725.0\n",
       "std    1338.520020      0.0   81.314871   26472.227449     1.029047      0.0\n",
       "min     161.000000     78.0  707.000000   25725.000000     1.000000  25725.0\n",
       "25%    1428.250000     78.0  812.500000   25725.000000     1.000000  25725.0\n",
       "50%    2796.500000     78.0  866.500000   51450.000000     2.000000  25725.0\n",
       "75%    3720.250000     78.0  935.750000   51450.000000     2.000000  25725.0\n",
       "max    4919.000000     78.0  997.000000  154350.000000     6.000000  25725.0"
      ]
     },
     "metadata": {},
     "output_type": "display_data"
    },
    {
     "data": {
      "text/html": [
       "<div>\n",
       "<style scoped>\n",
       "    .dataframe tbody tr th:only-of-type {\n",
       "        vertical-align: middle;\n",
       "    }\n",
       "\n",
       "    .dataframe tbody tr th {\n",
       "        vertical-align: top;\n",
       "    }\n",
       "\n",
       "    .dataframe thead th {\n",
       "        text-align: right;\n",
       "    }\n",
       "</style>\n",
       "<table border=\"1\" class=\"dataframe\">\n",
       "  <thead>\n",
       "    <tr style=\"text-align: right;\">\n",
       "      <th></th>\n",
       "      <th>order_id</th>\n",
       "      <th>user_id</th>\n",
       "      <th>order_amount</th>\n",
       "      <th>total_items</th>\n",
       "      <th>payment_method</th>\n",
       "      <th>created_at</th>\n",
       "      <th>avg</th>\n",
       "    </tr>\n",
       "    <tr>\n",
       "      <th>shop_id</th>\n",
       "      <th></th>\n",
       "      <th></th>\n",
       "      <th></th>\n",
       "      <th></th>\n",
       "      <th></th>\n",
       "      <th></th>\n",
       "      <th></th>\n",
       "    </tr>\n",
       "  </thead>\n",
       "  <tbody>\n",
       "    <tr>\n",
       "      <th>78</th>\n",
       "      <td>46</td>\n",
       "      <td>46</td>\n",
       "      <td>46</td>\n",
       "      <td>46</td>\n",
       "      <td>46</td>\n",
       "      <td>46</td>\n",
       "      <td>46</td>\n",
       "    </tr>\n",
       "  </tbody>\n",
       "</table>\n",
       "</div>"
      ],
      "text/plain": [
       "         order_id  user_id  order_amount  total_items  payment_method  \\\n",
       "shop_id                                                                 \n",
       "78             46       46            46           46              46   \n",
       "\n",
       "         created_at  avg  \n",
       "shop_id                   \n",
       "78               46   46  "
      ]
     },
     "execution_count": 7,
     "metadata": {},
     "output_type": "execute_result"
    }
   ],
   "source": [
    "large_unit_price = df2.loc[df2.avg > 10000]\n",
    "display(large_unit_price.describe())\n",
    "large_unit_price.groupby(\"shop_id\").agg(\"count\")"
   ]
  },
  {
   "cell_type": "markdown",
   "id": "8795f6af-f349-4e4d-9498-98fd2e927967",
   "metadata": {},
   "source": [
    "All 17 of the large orders come from shop 42 with user 607. And all of these orders are of the same order amount and total items. This may have different implications including the user 607 has a special contract with shop 42, user 607 is artificially bumping shop 42's sales, or else. \n",
    "\n",
    "For the samples with very large unit price, they all come from shop 78 but with 46 different users. Thus, it's less likely that 46 people are colluding with the store to artifically bump up the price of the item. Nonetheless, it is still highly unlikely that multiple orders of this magnitude are traded for sneakers. Potential reasons include an erroreous store tag, issue with currency, or else. \n",
    "\n",
    "Since we are now aware of the outlier issue, a better metric to report the average order value should remove the outliers' effect on average or instead use median. \n",
    "\n",
    "Thus I propose the below metrics: 1) average order size using only orders within two standard deviation of the 97.5th percentile of the sample population and 2) box plot"
   ]
  },
  {
   "cell_type": "code",
   "execution_count": 8,
   "id": "f0d2dc98-5af6-4893-b7a5-7217111e9e2e",
   "metadata": {},
   "outputs": [],
   "source": [
    "def avg_order_size_without_outlier(df):\n",
    "    \"\"\"The function filters the dataset for a subset of samples whose order_amount is \n",
    "    lower than the 97.5 percentile of the population. Then it calculates the mean and \n",
    "    standard deviation of the subset. Function returns the subset of samples \n",
    "    whose order_amount is below three standard deviation above the mean\"\"\"\n",
    "    \n",
    "    df_0to975 = df.loc[df.order_amount <= df.quantile(.975).order_amount,:]\n",
    "    std_0to975 = df_0to975.order_amount.std()\n",
    "    mean_0to975 = df_0to975.order_amount.mean()\n",
    "\n",
    "    three_std_above = mean_0to975 + 3 * std_0to975\n",
    "\n",
    "    mod_df = df.loc[(df.order_amount < three_std_above)]\n",
    "    \n",
    "    return mod_df"
   ]
  },
  {
   "cell_type": "markdown",
   "id": "1e7c1c96-8ffa-46d7-a033-13b11c15c487",
   "metadata": {},
   "source": [
    "Calculate the modified average order size"
   ]
  },
  {
   "cell_type": "code",
   "execution_count": 12,
   "id": "5ef98c6a-c7f1-47cc-9a8b-f2ab9dff341f",
   "metadata": {},
   "outputs": [
    {
     "name": "stdout",
     "output_type": "stream",
     "text": [
      "The modified average order size without taking outliers into account is: 293.81\n"
     ]
    }
   ],
   "source": [
    "modified_df = avg_order_size_without_outlier(df)\n",
    "mod_avg_order = modified_df.order_amount.mean()\n",
    "\n",
    "print(f'The modified average order size without taking outliers \\\n",
    "into account is: {mod_avg_order:5.2f}')"
   ]
  },
  {
   "cell_type": "code",
   "execution_count": 10,
   "id": "78cea5c7-65e7-4e53-857d-9e6ac5471c14",
   "metadata": {},
   "outputs": [
    {
     "data": {
      "text/plain": [
       "{'whiskers': [<matplotlib.lines.Line2D at 0x1f8fa417df0>,\n",
       "  <matplotlib.lines.Line2D at 0x1f8fa426190>],\n",
       " 'caps': [<matplotlib.lines.Line2D at 0x1f8fa4264f0>,\n",
       "  <matplotlib.lines.Line2D at 0x1f8fa426850>],\n",
       " 'boxes': [<matplotlib.lines.Line2D at 0x1f8fa417a90>],\n",
       " 'medians': [<matplotlib.lines.Line2D at 0x1f8fa426bb0>],\n",
       " 'fliers': [<matplotlib.lines.Line2D at 0x1f8fa426f10>],\n",
       " 'means': []}"
      ]
     },
     "execution_count": 10,
     "metadata": {},
     "output_type": "execute_result"
    },
    {
     "data": {
      "image/png": "[encoded data removed]",
      "text/plain": [
       "<Figure size 432x288 with 1 Axes>"
      ]
     },
     "metadata": {
      "needs_background": "light"
     },
     "output_type": "display_data"
    }
   ],
   "source": [
    "plt.boxplot(modified_df.order_amount, widths=0.4, meanline=True)"
   ]
  }
 ],
 "metadata": {
  "kernelspec": {
   "display_name": "Python 3",
   "language": "python",
   "name": "python3"
  },
  "language_info": {
   "codemirror_mode": {
    "name": "ipython",
    "version": 3
   },
   "file_extension": ".py",
   "mimetype": "text/x-python",
   "name": "python",
   "nbconvert_exporter": "python",
   "pygments_lexer": "ipython3",
   "version": "3.8.8"
  }
 },
 "nbformat": 4,
 "nbformat_minor": 5
}
